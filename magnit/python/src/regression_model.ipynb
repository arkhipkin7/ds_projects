{
 "cells": [
  {
   "cell_type": "code",
   "execution_count": null,
   "metadata": {},
   "outputs": [],
   "source": [
    "import numpy as np\n",
    "import pandas as pd\n",
    "import seaborn as sns\n",
    "import matplotlib.pyplot as plt\n",
    "\n",
    "from typing import List\n",
    "from sklearn.preprocessing import LabelEncoder, StandardScaler\n",
    "from sklearn.model_selection import train_test_split, GridSearchCV, cross_val_score\n",
    "\n",
    "pd.set_option('display.float_format', lambda x: '%.2f' % x)"
   ]
  },
  {
   "cell_type": "markdown",
   "metadata": {},
   "source": [
    "# Вспомогательные функции"
   ]
  },
  {
   "cell_type": "code",
   "execution_count": null,
   "metadata": {
    "code_folding": []
   },
   "outputs": [],
   "source": [
    "def metric(y_true, y_pred) -> float:\n",
    "    return float(np.sum(np.abs(y_true - y_pred)) / np.sum(y_pred) * 100)"
   ]
  },
  {
   "cell_type": "code",
   "execution_count": null,
   "metadata": {
    "code_folding": []
   },
   "outputs": [],
   "source": [
    "def indicies_of_outliers(x):\n",
    "    ql, q3 = np.percentile(x, [25, 75])\n",
    "    iqr = q3 - ql\n",
    "    lower_bound = ql - (iqr * 1.5)\n",
    "    upper_bound = q3 + (iqr * 1.5)\n",
    "    return np.where((x > upper_bound) | (x < lower_bound))"
   ]
  },
  {
   "cell_type": "code",
   "execution_count": null,
   "metadata": {
    "code_folding": [
     0
    ]
   },
   "outputs": [],
   "source": [
    "def identify_collinear(X: pd.DataFrame,\n",
    "                       correlation_threshold: float) -> List[str]:\n",
    "    '''\n",
    "        Функция поиск корреляции признаков\n",
    "        На вход принимает фрейм независимых переменных и значение для корреляции\n",
    "        Возвращает список признаком с высокой корреляцией\n",
    "    '''\n",
    "    corr_matrix = X.corr()\n",
    "\n",
    "    upper = corr_matrix.where(\n",
    "        np.triu(np.ones(corr_matrix.shape), k=1).astype(np.bool))\n",
    "\n",
    "    to_drop = [\n",
    "        column for column in upper.columns\n",
    "        if any(upper[column].abs() > correlation_threshold)\n",
    "    ]\n",
    "\n",
    "    record_collinear = pd.DataFrame(\n",
    "        columns=['drop_feature', 'corr_feature', 'corr_value'])\n",
    "\n",
    "    for column in to_drop:\n",
    "        corr_features = list(\n",
    "            upper.index[upper[column].abs() > correlation_threshold])\n",
    "        corr_values = list(\n",
    "            upper[column][upper[column].abs() > correlation_threshold])\n",
    "\n",
    "        drop_features = [column for _ in range(len(corr_features))]\n",
    "\n",
    "        temp_df = pd.DataFrame.from_dict({\n",
    "            'drop_feature': drop_features,\n",
    "            'corr_feature': corr_features,\n",
    "            'corr_value': corr_values\n",
    "        })\n",
    "\n",
    "        record_collinear = record_collinear.append(temp_df, ignore_index=True)\n",
    "\n",
    "    record_collinear = record_collinear\n",
    "    return to_drop"
   ]
  },
  {
   "cell_type": "markdown",
   "metadata": {},
   "source": [
    "# Исследование данных"
   ]
  },
  {
   "cell_type": "code",
   "execution_count": null,
   "metadata": {},
   "outputs": [],
   "source": [
    "df = pd.read_csv('data_regression_for_task.csv', sep=',')\n",
    "df.head()"
   ]
  },
  {
   "cell_type": "code",
   "execution_count": null,
   "metadata": {},
   "outputs": [],
   "source": [
    "# Посмотрим на уникальные значения в каждом признаке\n",
    "for i in df.columns:\n",
    "    x = df[i].value_counts()\n",
    "    print('column', i, 'values', len(x))"
   ]
  },
  {
   "cell_type": "code",
   "execution_count": null,
   "metadata": {},
   "outputs": [],
   "source": [
    "# YEAR - признак не информативен, тк принимает только 2 разных значение -> удалим его\n",
    "# MONTH\n",
    "# CONTRAGENT - предположим, признак имеет какую-то естественную упорядочность (индекс контрагента который поставляет товар соответсвует порядковому номеру начала работы с магазином)\n",
    "# ARTICLE_CODE - похож на уникальный номер товара\n",
    "# ARTICLE_NAME - расшифровка поля ARTICLE_CODE -> удалим его\n",
    "# ARTICLE_GROUP - группа товаров -> сделаем кодировку номинальных признаков\n",
    "# SALES -> проведем стандартизацию признаков\n",
    "# STORE_SALES -> проведем стандартизацию признаков"
   ]
  },
  {
   "cell_type": "code",
   "execution_count": null,
   "metadata": {},
   "outputs": [],
   "source": [
    "# Удалим пропущенные значения\n",
    "df.dropna(inplace=True)\n",
    "\n",
    "# Удалим столбцы: YEAR, ARTICLE_NAME\n",
    "df.drop(['ARTICLE_NAME', 'YEAR'], inplace=True, axis=1)"
   ]
  },
  {
   "cell_type": "code",
   "execution_count": null,
   "metadata": {},
   "outputs": [],
   "source": [
    "# Удалим выбросы не входящие в МКР\n",
    "to_drop_index = indicies_of_outliers(df.STORE_SALES)[0].tolist()\n",
    "df.drop(df.index[to_drop_index], inplace=True)"
   ]
  },
  {
   "cell_type": "code",
   "execution_count": null,
   "metadata": {},
   "outputs": [],
   "source": [
    "# Закодируем номинальные категориальный признак\n",
    "df = pd.get_dummies(df, columns=['ARTICLE_GROUP', 'MONTH'])"
   ]
  },
  {
   "cell_type": "code",
   "execution_count": null,
   "metadata": {},
   "outputs": [],
   "source": [
    "test_last_month = df[df.MONTH_12 == 1]\n",
    "\n",
    "X_test_last_month = test_last_month[['CONTRAGENT', 'ARTICLE_CODE', 'STORE_SALES',\n",
    "       'ARTICLE_GROUP_BEER', 'ARTICLE_GROUP_KEGS', 'ARTICLE_GROUP_LIQUOR',\n",
    "       'ARTICLE_GROUP_NON-ALCOHOL', 'ARTICLE_GROUP_REF',\n",
    "       'ARTICLE_GROUP_STR_SUPPLIES', 'ARTICLE_GROUP_WINE', 'MONTH_1',\n",
    "       'MONTH_2', 'MONTH_4', 'MONTH_5', 'MONTH_6', 'MONTH_8', 'MONTH_9',\n",
    "       'MONTH_10', 'MONTH_11', 'MONTH_12']]\n",
    "y_test_last_month = test_last_month[['SALES']]\n",
    "\n",
    "# Закодиурем порядковые категориальные признаки\n",
    "cc = LabelEncoder().fit(X_test_last_month.CONTRAGENT)\n",
    "X_test_last_month['CONTRAGENT_CODE'] = cc.transform(X_test_last_month.CONTRAGENT)\n",
    "X_test_last_month.drop('CONTRAGENT', axis=1, inplace=True)\n",
    "\n",
    "# Уберем символы из признака и преобразуем в целому числу(положительному)\n",
    "X_test_last_month['ARTICLE_CODE'] = X_test_last_month['ARTICLE_CODE'].str.replace(r'\\D', '')\n",
    "X_test_last_month.ARTICLE_CODE = X_test_last_month.ARTICLE_CODE.astype(np.uint64)\n",
    "\n",
    "drop_col = identify_collinear(X_test_last_month, 0.7)\n",
    "X_test_last_month.drop(drop_col, axis=1, inplace=True)\n",
    "\n",
    "# Стандартизируем количественные данные\n",
    "scaler = StandardScaler().fit_transform(X_test_last_month[['STORE_SALES']])\n",
    "scaled_features_df = pd.DataFrame(scaler, index=X_test_last_month.index, columns=X_test_last_month[['STORE_SALES']].columns)\n",
    "X_test_last_month.drop('STORE_SALES', axis=1, inplace=True)\n",
    "X_test_last_month = X_test_last_month.join(scaled_features_df)"
   ]
  },
  {
   "cell_type": "code",
   "execution_count": null,
   "metadata": {},
   "outputs": [],
   "source": [
    "X = df[['CONTRAGENT', 'ARTICLE_CODE', 'STORE_SALES',\n",
    "       'ARTICLE_GROUP_BEER', 'ARTICLE_GROUP_KEGS', 'ARTICLE_GROUP_LIQUOR',\n",
    "       'ARTICLE_GROUP_NON-ALCOHOL', 'ARTICLE_GROUP_REF',\n",
    "       'ARTICLE_GROUP_STR_SUPPLIES', 'ARTICLE_GROUP_WINE', 'MONTH_1',\n",
    "       'MONTH_2', 'MONTH_4', 'MONTH_5', 'MONTH_6', 'MONTH_8', 'MONTH_9',\n",
    "       'MONTH_10', 'MONTH_11', 'MONTH_12']]\n",
    "y = df[['SALES']]"
   ]
  },
  {
   "cell_type": "code",
   "execution_count": null,
   "metadata": {},
   "outputs": [],
   "source": [
    "# Закодиурем порядковые категориальные признаки\n",
    "cc = LabelEncoder().fit(X.CONTRAGENT)\n",
    "X['CONTRAGENT_CODE'] = cc.transform(X.CONTRAGENT)\n",
    "X.drop('CONTRAGENT', axis=1, inplace=True)"
   ]
  },
  {
   "cell_type": "code",
   "execution_count": null,
   "metadata": {},
   "outputs": [],
   "source": [
    "# Уберем символы из признака и преобразуем в целому числу(положительному)\n",
    "X['ARTICLE_CODE'] = X['ARTICLE_CODE'].str.replace(r'\\D', '')\n",
    "X.ARTICLE_CODE = X.ARTICLE_CODE.astype(np.uint64)"
   ]
  },
  {
   "cell_type": "code",
   "execution_count": null,
   "metadata": {},
   "outputs": [],
   "source": [
    "# Построим корреляционную матрицу и удалим признаки с корреляцией > 0.7 по модулю\n",
    "plt.figure(figsize=(15, 8))\n",
    "ax = sns.heatmap(X.corr(), cmap='viridis', annot=True, linewidths=.5)\n",
    "drop_col = identify_collinear(X, 0.7)\n",
    "print(f'Признаки которые были удалены\\n{drop_col}')\n",
    "X.drop(drop_col, axis=1, inplace=True)"
   ]
  },
  {
   "cell_type": "code",
   "execution_count": null,
   "metadata": {},
   "outputs": [],
   "source": [
    "# Стандартизируем количественные данные\n",
    "scaler = StandardScaler().fit_transform(X[['STORE_SALES']])\n",
    "scaled_features_df = pd.DataFrame(scaler, index=X.index, columns=X[['STORE_SALES']].columns)\n",
    "X.drop('STORE_SALES', axis=1, inplace=True)\n",
    "X = X.join(scaled_features_df)"
   ]
  },
  {
   "cell_type": "markdown",
   "metadata": {},
   "source": [
    "# Посмтроение модели"
   ]
  },
  {
   "cell_type": "code",
   "execution_count": null,
   "metadata": {},
   "outputs": [],
   "source": [
    "X_train, X_test, y_train, y_test = train_test_split(X, y, test_size=0.2, random_state=42)"
   ]
  },
  {
   "cell_type": "code",
   "execution_count": null,
   "metadata": {},
   "outputs": [],
   "source": [
    "## Сначала посмотрим как ведут себя основные модели без настроки гиперпараметров"
   ]
  },
  {
   "cell_type": "code",
   "execution_count": null,
   "metadata": {},
   "outputs": [],
   "source": [
    "from sklearn.tree import DecisionTreeRegressor\n",
    "from sklearn.linear_model import LinearRegression\n",
    "from sklearn.neighbors import KNeighborsRegressor\n",
    "from sklearn.ensemble import RandomForestRegressor\n",
    "\n",
    "models = [\n",
    "    LinearRegression(),\n",
    "    DecisionTreeRegressor(),\n",
    "    KNeighborsRegressor(),\n",
    "    RandomForestRegressor()\n",
    "]\n",
    "\n",
    "TestModel = pd.DataFrame()\n",
    "temp_dict = {}\n",
    "\n",
    "for model in models:\n",
    "    m = str(model)\n",
    "    model.fit(X_train, y_train)\n",
    "    temp_dict['Model'] = m[:m.index('(')]\n",
    "    temp_dict['R^2_test'] = metric(y_test,\n",
    "                                   model.predict(X_test).reshape(-1, 1))\n",
    "    TestModel = TestModel.append([temp_dict])\n",
    "\n",
    "TestModel = TestModel.set_index(['Model'])\n",
    "TestModel"
   ]
  },
  {
   "cell_type": "markdown",
   "metadata": {},
   "source": [
    "## Произведем поиск по сетки гиперпараметров для к ближайщих соседей и случаного леса"
   ]
  },
  {
   "cell_type": "code",
   "execution_count": null,
   "metadata": {},
   "outputs": [],
   "source": [
    "def grid_search_for_model(model, params):\n",
    "    grid_search = GridSearchCV(estimator=model,\n",
    "                              param_grid=params,\n",
    "                              cv=5,\n",
    "                              verbose=1)\n",
    "    grid_search.fit(X_train, y_train.values.ravel())\n",
    "    return grid_search.best_params_, grid_search.cv_results_['params']"
   ]
  },
  {
   "cell_type": "code",
   "execution_count": null,
   "metadata": {},
   "outputs": [],
   "source": [
    "param_grid = {'n_neighbors': np.arange(1, 12, 2),\n",
    "              'weights': ['uniform', 'distance']}\n",
    "\n",
    "knn = KNeighborsRegressor()\n",
    "\n",
    "best_params, params = grid_search_for_model(knn, param_grid)\n",
    "best_params, params"
   ]
  },
  {
   "cell_type": "code",
   "execution_count": null,
   "metadata": {
    "scrolled": true
   },
   "outputs": [],
   "source": [
    "param_grid = {\n",
    "    'n_estimators': list(range(50, 101, 10)),\n",
    "    'max_depth': list(range(10, 15)),\n",
    "    'max_features': list(range(5, 10)),\n",
    "}\n",
    "\n",
    "rf = RandomForestRegressor()\n",
    "\n",
    "best_params, params = grid_search_for_model(rf, param_grid)\n",
    " best_params, params"
   ]
  },
  {
   "cell_type": "markdown",
   "metadata": {},
   "source": [
    "## Обучим случайный лес с найденными гиперпараметрами и оценим точность на последнем месяце\n",
    "### * По хороше надо сделать кросвалидацию, не нашел как в cros_val_score засунусь свою метрику сделал на r2"
   ]
  },
  {
   "cell_type": "code",
   "execution_count": null,
   "metadata": {},
   "outputs": [],
   "source": [
    "rf = RandomForestRegressor(random_state=42,\n",
    "                           max_depth=best_params['max_depth'],\n",
    "                           max_features=best_params['max_features'],\n",
    "                           n_estimators=best_params['n_estimators'])\n",
    "rf.fit(X_train, y_train.values.ravel())\n",
    "y_pred = rf.predict(X_test_last_month)\n",
    "print(f'Оценка точности на последний месяц: {round(metric(y_test_last_month, y_pred.reshape(-1, 1)),2)}')"
   ]
  },
  {
   "cell_type": "code",
   "execution_count": null,
   "metadata": {},
   "outputs": [],
   "source": [
    "scores = cross_val_score(rf, X, y.values.ravel(), cv=5, scoring='r2')\n",
    "print(f'R^2 на перекрестной проверки: {scores}')\n",
    "print(f'Mean R^2:\\t {round(np.mean(scores), 2)}')"
   ]
  },
  {
   "cell_type": "code",
   "execution_count": null,
   "metadata": {},
   "outputs": [],
   "source": []
  }
 ],
 "metadata": {
  "kernelspec": {
   "display_name": "Python 3",
   "language": "python",
   "name": "python3"
  },
  "language_info": {
   "codemirror_mode": {
    "name": "ipython",
    "version": 3
   },
   "file_extension": ".py",
   "mimetype": "text/x-python",
   "name": "python",
   "nbconvert_exporter": "python",
   "pygments_lexer": "ipython3",
   "version": "3.7.6"
  },
  "toc": {
   "base_numbering": 1,
   "nav_menu": {},
   "number_sections": true,
   "sideBar": true,
   "skip_h1_title": false,
   "title_cell": "Table of Contents",
   "title_sidebar": "Contents",
   "toc_cell": false,
   "toc_position": {},
   "toc_section_display": true,
   "toc_window_display": false
  },
  "varInspector": {
   "cols": {
    "lenName": 16,
    "lenType": 16,
    "lenVar": 40
   },
   "kernels_config": {
    "python": {
     "delete_cmd_postfix": "",
     "delete_cmd_prefix": "del ",
     "library": "var_list.py",
     "varRefreshCmd": "print(var_dic_list())"
    },
    "r": {
     "delete_cmd_postfix": ") ",
     "delete_cmd_prefix": "rm(",
     "library": "var_list.r",
     "varRefreshCmd": "cat(var_dic_list()) "
    }
   },
   "types_to_exclude": [
    "module",
    "function",
    "builtin_function_or_method",
    "instance",
    "_Feature"
   ],
   "window_display": false
  }
 },
 "nbformat": 4,
 "nbformat_minor": 4
}
