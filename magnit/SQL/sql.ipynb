{
 "cells": [
  {
   "cell_type": "code",
   "execution_count": null,
   "metadata": {},
   "outputs": [],
   "source": [
    "import pandas as pd\n",
    "import pyodbc\n",
    "\n",
    "df = pd.read_csv(r'shedulers.csv', encoding='cp1251', sep=';')"
   ]
  },
  {
   "cell_type": "code",
   "execution_count": null,
   "metadata": {},
   "outputs": [],
   "source": [
    "df.columns = ['NAME', 'SHEDULE', 'DATE_BEGIN', 'DATE_END']\n",
    "df.DATE_BEGIN = pd.to_datetime(df.DATE_BEGIN, errors = 'coerce', format='%d.%m.%Y')\n",
    "df.DATE_END = pd.to_datetime(df.DATE_END, errors = 'coerce', format='%d.%m.%Y')\n",
    "end = pd.Timestamp.max\n",
    "df.DATE_END = df.DATE_END.fillna(end)\n",
    "df.info()"
   ]
  },
  {
   "cell_type": "markdown",
   "metadata": {
    "heading_collapsed": true
   },
   "source": [
    "# Задание 1\n",
    "``` mysql\n",
    "    if object_id('dbo.T_CONTRACTOR_SHERULER', 'U') is not null\n",
    "        drop table DEBT.dbo.T_CONTRACTOR_SHERULER;\n",
    "\n",
    "    CREATE TABLE DBO.T_CONTRACTOR_SHERULER (\n",
    "        ID_NAME INT NOT NULL  IDENTITY(1, 1),\n",
    "        NAME VARCHAR(255),\n",
    "        SHEDULE VARCHAR(255),\n",
    "        DATE_BEGIN DATETIME,\n",
    "        DATE_END DATETIME,\n",
    "        PRIMARY KEY (ID_NAME),\n",
    "        CONSTRAINT un_NAME UNIQUE (NAME, DATE_BEGIN),\n",
    "        CONSTRAINT check_date CHECK (\n",
    "            DATE_BEGIN < DATE_END\n",
    "            )\n",
    "        )\n",
    "```"
   ]
  },
  {
   "cell_type": "code",
   "execution_count": null,
   "metadata": {
    "hidden": true
   },
   "outputs": [],
   "source": [
    "conn = pyodbc.connect('DRIVER={SQL Server Native Client 11.0};'\n",
    "                          'SERVER=DCSQLREP;'\n",
    "                          'DATABASE=Debt;'\n",
    "                          'Trusted_Connection=yes;')\n",
    "cursor = conn.cursor()\n",
    "\n",
    "for ind, row in df.iterrows():\n",
    "    try:\n",
    "        cursor.execute('''\n",
    "            insert into dbo.T_CONTRACTOR_SHERULER (NAME, SHEDULE, DATE_BEGIN, DATE_END)\n",
    "            values (?,?,?,?)\n",
    "            ''', row.NAME, row.SHEDULE, row.DATE_BEGIN, row.DATE_END)\n",
    "    except Exception as es:\n",
    "        print(row.NAME, row.SHEDULE, row.DATE_BEGIN, row.DATE_END)\n",
    "conn.commit()\n",
    "conn.close()"
   ]
  },
  {
   "cell_type": "markdown",
   "metadata": {
    "heading_collapsed": true
   },
   "source": [
    "# Задание 2\n",
    "``` mysql\n",
    "    if object_id('dbo.T_CONTRACTOR_WORK_DAY', 'U') is not null\n",
    "        drop table DEBT.dbo.T_CONTRACTOR_WORK_DAY;\n",
    "\n",
    "    CREATE TABLE DBO.T_CONTRACTOR_WORK_DAY (\n",
    "        ID INT NOT NULL  IDENTITY(1, 1),\n",
    "        NAME VARCHAR(255),\n",
    "        DATE_BEGIN DATETIME,\n",
    "        DATE_END DATETIME,\n",
    "        PRIMARY KEY (ID)\n",
    "        )\n",
    "```"
   ]
  },
  {
   "cell_type": "markdown",
   "metadata": {},
   "source": [
    "# Задание 3"
   ]
  },
  {
   "cell_type": "markdown",
   "metadata": {},
   "source": [
    "``` mysql\n",
    "IF (OBJECT_ID('SelectAllCustomers') IS NOT NULL)\n",
    "  DROP PROCEDURE SelectAllCustomers\n",
    "GO\n",
    "\n",
    "CREATE PROCEDURE SelectAllCustomers\n",
    "\t@date_begin DATE,\n",
    "\t@date_end DATE,\n",
    "\t@shedule nvarchar(50),\n",
    "\t@name nvarchar(100)\n",
    "AS\n",
    "\tdeclare @len_date int = DATEDIFF(day, @date_begin, @date_end)\n",
    "\tdeclare @new_string nvarchar(50)\n",
    "\t\n",
    "\tset @new_string = @shedule + SUBSTRING(@shedule, 1, @len_date - len(@shedule))\t\n",
    "\tdeclare @i int = 1\n",
    "\tdeclare @len_new_str int = len(@new_string)\n",
    "\t\n",
    "\tif @len_date > len(@shedule)\n",
    "\t\twhile (@i <= @len_new_str)\n",
    "\t\t\tbegin\n",
    "\t\t\t\tif substring(@new_string, @i, 1) = 'д'\n",
    "\t\t\t\t\tbegin \n",
    "\t\t\t\t\t\tinsert into [Debt].[dbo].[T_CONTRACTOR_WORK_DAY]\n",
    "\t\t\t\t\t\tvalues (@name, convert(nvarchar, dateadd(hour, 8, DATEADD(day, @i-1, cast(@date_begin as nvarchar))), 120),\n",
    "\t\t\t\t\t\t\t\tconvert(nvarchar, dateadd(hour, 20, DATEADD(day, @i-1, cast(@date_begin as nvarchar))), 120))\n",
    "\t\t\t\t\tend\n",
    "\t\t\t\tif substring(@new_string, @i, 1) = 'н'\n",
    "\t\t\t\t\tbegin\n",
    "\t\t\t\t\t\tinsert into [Debt].[dbo].[T_CONTRACTOR_WORK_DAY]\n",
    "\t\t\t\t\t\tvalues (@name, convert(nvarchar, dateadd(hour, 20, DATEADD(day, @i-1, cast(@date_begin as nvarchar))), 120),\n",
    "\t\t\t\t\t\t\tconvert(nvarchar, dateadd(hour, 8, DATEADD(day, @i, cast(@date_begin as nvarchar))), 120))\n",
    "\t\t\t\t\tend\n",
    "\t\t\t\tif substring(@new_string, @i, 1) = 'с'\n",
    "\t\t\t\t\tbegin\n",
    "\t\t\t\t\t\tinsert into [Debt].[dbo].[T_CONTRACTOR_WORK_DAY]\n",
    "\t\t\t\t\t\tvalues(@name, convert(nvarchar, dateadd(hour, 8, DATEADD(day, @i-1, cast(@date_begin as nvarchar))), 120),\n",
    "\t\t\t\t\t\t\tconvert(nvarchar, dateadd(hour, 8, DATEADD(day, @i, cast(@date_begin as nvarchar))), 120))\n",
    "\t\t\t\t\tend\n",
    "\t\t\t\tset @i = @i +1\n",
    "\t\t\tend\n",
    "GO\n",
    "```"
   ]
  },
  {
   "cell_type": "markdown",
   "metadata": {},
   "source": [
    "# Задание 4"
   ]
  },
  {
   "cell_type": "markdown",
   "metadata": {},
   "source": [
    "## 4.1"
   ]
  },
  {
   "cell_type": "markdown",
   "metadata": {},
   "source": [
    "``` mysql\n",
    "select name, count(date_begin)\n",
    "from [T_CONTRACTOR_WORK_DAY]\n",
    "group by name\n",
    "```"
   ]
  },
  {
   "cell_type": "markdown",
   "metadata": {},
   "source": [
    "## 4.2"
   ]
  },
  {
   "cell_type": "markdown",
   "metadata": {},
   "source": [
    "``` mysql\n",
    "select name, count(date_begin)\n",
    "from [T_CONTRACTOR_WORK_DAY]\n",
    "where date_beign < '2019-02-01'\n",
    "group by name\n",
    "having count(date_begin) > 10\n",
    "```"
   ]
  },
  {
   "cell_type": "markdown",
   "metadata": {},
   "source": [
    "## 4.3"
   ]
  },
  {
   "cell_type": "markdown",
   "metadata": {},
   "source": [
    "``` mysql\n",
    "select distinct name\n",
    "from [T_CONTRACTOR_WORK_DAY]\n",
    "where date_begin between '2019-01-14' and '2019-01-17'\n",
    "```"
   ]
  },
  {
   "cell_type": "markdown",
   "metadata": {},
   "source": [
    "# Задание 5"
   ]
  },
  {
   "cell_type": "markdown",
   "metadata": {},
   "source": [
    "## Задагте 3 на питоне"
   ]
  },
  {
   "cell_type": "code",
   "execution_count": null,
   "metadata": {
    "code_folding": []
   },
   "outputs": [],
   "source": [
    "from datetime import datetime, timedelta\n",
    "\n",
    "\n",
    "def get_works_days(date_begin: str, date_end: str, shedule: str, name: str):\n",
    "    begin = datetime.strptime(date_begin, '%Y-%m-%d')\n",
    "    end = datetime.strptime(date_end, '%Y-%m-%d')\n",
    "    work_days = (end - begin).days\n",
    "    \n",
    "    lst_to_df = []\n",
    "    \n",
    "    if len(shedule) < work_days:\n",
    "        shedule += shedule[:work_days - len(shedule)]\n",
    "    try:\n",
    "        for i in range(work_days):\n",
    "            dct_to_lst = {}\n",
    "            if shedule[i] == 'д':\n",
    "                dct_to_lst['NAME'] = name\n",
    "                dct_to_lst['DATE_BEGIN'] = begin + timedelta(days=i) + timedelta(hours=8)\n",
    "                dct_to_lst['DATE_END'] = begin + timedelta(days=i) + timedelta(hours=20)\n",
    "            elif shedule[i] == 'с':\n",
    "                dct_to_lst['NAME'] = name\n",
    "                dct_to_lst['DATE_BEGIN'] = begin + timedelta(days=i) + timedelta(hours=8)\n",
    "                dct_to_lst['DATE_END'] = begin + timedelta(days=i+1) + timedelta(hours=8)\n",
    "            elif shedule[i] == 'н':\n",
    "                dct_to_lst['NAME'] = name\n",
    "                dct_to_lst['DATE_BEGIN'] = begin + timedelta(days=i) + timedelta(hours=20)\n",
    "                dct_to_lst['DATE_END'] = begin + timedelta(days=i+1) + timedelta(hours=8)\n",
    "            lst_to_df.append(dct_to_lst)\n",
    "    except:\n",
    "        pass\n",
    "    df = pd.DataFrame(lst_to_df).dropna()\n",
    "    return df\n",
    "\n",
    "df_to_load = get_works_days('2019-01-01', '2019-01-10', 'дддвсвнн', 'Поставщик 1')\n",
    "df_to_load.to_sql(\"T_CONTRACTOR_WORK_DAY\", engine ,if_exists='append', chunksize=50)"
   ]
  },
  {
   "cell_type": "code",
   "execution_count": null,
   "metadata": {},
   "outputs": [],
   "source": [
    "# Чтобы не делать запросы к бд поработаем средствами панд\n",
    "\n",
    "df_four_task = pd.DataFrame()\n",
    "for ind, row in df.iterrows():\n",
    "    df_four_task = df_four_task.append(\n",
    "        get_works_days(\n",
    "            str(row.DATE_BEGIN)[:10],\n",
    "            str(row.DATE_END)[:10], row.SHEDULE, row.NAME), ignore_index=True)"
   ]
  },
  {
   "cell_type": "code",
   "execution_count": null,
   "metadata": {},
   "outputs": [],
   "source": [
    "# Сделать выборку содержащую сколько рабочих дней было у каждого поставщика\n",
    "df_four_task.groupby('NAME').count()"
   ]
  },
  {
   "cell_type": "code",
   "execution_count": null,
   "metadata": {},
   "outputs": [],
   "source": [
    "# Сделать выборку поставщиков, у которыйх было больше 10 рабочих дней за январь 2019 года\n",
    "df_four_task[(df_four_task.DATE_BEGIN >= '2019-01-01') & (df_four_task.DATE_BEGIN < '2019-02-01')].groupby('NAME').filter(lambda x: len(x) > 10).groupby('NAME').count()"
   ]
  },
  {
   "cell_type": "code",
   "execution_count": null,
   "metadata": {},
   "outputs": [],
   "source": [
    "# Сделать выборку поставщиков, кто работал 14, 15 и 16 января 2019 года\n",
    "df_four_task[(df_four_task.DATE_BEGIN >= '2019-01-14') & (df_four_task.DATE_BEGIN <= '2019-01-16')]['NAME'].unique().tolist()"
   ]
  }
 ],
 "metadata": {
  "kernelspec": {
   "display_name": "Python 3",
   "language": "python",
   "name": "python3"
  },
  "language_info": {
   "codemirror_mode": {
    "name": "ipython",
    "version": 3
   },
   "file_extension": ".py",
   "mimetype": "text/x-python",
   "name": "python",
   "nbconvert_exporter": "python",
   "pygments_lexer": "ipython3",
   "version": "3.7.6"
  },
  "toc": {
   "base_numbering": 1,
   "nav_menu": {},
   "number_sections": true,
   "sideBar": true,
   "skip_h1_title": false,
   "title_cell": "Table of Contents",
   "title_sidebar": "Contents",
   "toc_cell": false,
   "toc_position": {},
   "toc_section_display": true,
   "toc_window_display": false
  },
  "varInspector": {
   "cols": {
    "lenName": 16,
    "lenType": 16,
    "lenVar": 40
   },
   "kernels_config": {
    "python": {
     "delete_cmd_postfix": "",
     "delete_cmd_prefix": "del ",
     "library": "var_list.py",
     "varRefreshCmd": "print(var_dic_list())"
    },
    "r": {
     "delete_cmd_postfix": ") ",
     "delete_cmd_prefix": "rm(",
     "library": "var_list.r",
     "varRefreshCmd": "cat(var_dic_list()) "
    }
   },
   "types_to_exclude": [
    "module",
    "function",
    "builtin_function_or_method",
    "instance",
    "_Feature"
   ],
   "window_display": false
  }
 },
 "nbformat": 4,
 "nbformat_minor": 4
}
